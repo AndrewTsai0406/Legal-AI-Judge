{
 "cells": [
  {
   "cell_type": "markdown",
   "metadata": {},
   "source": [
    "# Train Flash model"
   ]
  },
  {
   "cell_type": "code",
   "execution_count": 8,
   "metadata": {},
   "outputs": [
    {
     "name": "stderr",
     "output_type": "stream",
     "text": [
      "Using 'ckiplab/bert-base-chinese' provided by Hugging Face/transformers (https://github.com/huggingface/transformers).\n",
      "Some weights of BertForSequenceClassification were not initialized from the model checkpoint at ckiplab/bert-base-chinese and are newly initialized: ['classifier.bias', 'bert.pooler.dense.bias', 'bert.pooler.dense.weight', 'classifier.weight']\n",
      "You should probably TRAIN this model on a down-stream task to be able to use it for predictions and inference.\n"
     ]
    },
    {
     "name": "stdout",
     "output_type": "stream",
     "text": [
      "sentence\n"
     ]
    },
    {
     "name": "stderr",
     "output_type": "stream",
     "text": [
      "Map: 100%|██████████| 136708/136708 [00:24<00:00, 5539.29 examples/s]\n",
      "Using 16bit None Automatic Mixed Precision (AMP)\n",
      "GPU available: True (cuda), used: True\n",
      "TPU available: False, using: 0 TPU cores\n",
      "IPU available: False, using: 0 IPUs\n",
      "HPU available: False, using: 0 HPUs\n",
      "You are using a CUDA device ('NVIDIA RTX A2000 12GB') that has Tensor Cores. To properly utilize them, you should set `torch.set_float32_matmul_precision('medium' | 'high')` which will trade-off precision for performance. For more details, read https://pytorch.org/docs/stable/generated/torch.set_float32_matmul_precision.html#torch.set_float32_matmul_precision\n",
      "LOCAL_RANK: 0 - CUDA_VISIBLE_DEVICES: [0]\n",
      "\n",
      "  | Name          | Type               | Params\n",
      "-----------------------------------------------------\n",
      "0 | train_metrics | ModuleDict         | 0     \n",
      "1 | val_metrics   | ModuleDict         | 0     \n",
      "2 | test_metrics  | ModuleDict         | 0     \n",
      "3 | adapter       | HuggingFaceAdapter | 102 M \n",
      "-----------------------------------------------------\n",
      "7.7 K     Trainable params\n",
      "102 M     Non-trainable params\n",
      "102 M     Total params\n",
      "204.551   Total estimated model params size (MB)\n"
     ]
    },
    {
     "name": "stdout",
     "output_type": "stream",
     "text": [
      "Epoch 9: 100%|██████████| 2136/2136 [29:10<00:00,  1.22it/s, loss=1.84, v_num=5, train_accuracy_step=0.312, train_cross_entropy_step=1.850, val_accuracy=0.353, val_cross_entropy=1.740, train_accuracy_epoch=0.328, train_cross_entropy_epoch=1.830]"
     ]
    },
    {
     "name": "stderr",
     "output_type": "stream",
     "text": [
      "`Trainer.fit` stopped: `max_epochs=10` reached.\n"
     ]
    },
    {
     "name": "stdout",
     "output_type": "stream",
     "text": [
      "Epoch 9: 100%|██████████| 2136/2136 [29:11<00:00,  1.22it/s, loss=1.84, v_num=5, train_accuracy_step=0.312, train_cross_entropy_step=1.850, val_accuracy=0.353, val_cross_entropy=1.740, train_accuracy_epoch=0.328, train_cross_entropy_epoch=1.830]\n"
     ]
    }
   ],
   "source": [
    "import flash\n",
    "import torch\n",
    "from flash.text import TextClassificationData, TextClassifier\n",
    "\n",
    "\"\"\"\n",
    "    Process:\n",
    "    1. Create the DataModule\n",
    "    2. Build the task\n",
    "    3. Create the trainer and finetune the model\n",
    "    4. Generate predictions for a few comments\n",
    "    5. Save the model\n",
    "\"\"\"\n",
    "\n",
    "labels = {'law':[\n",
    "            '刑法第11條', '毒品危害防制條例第10條', '刑法第47條', '刑事訴訟法第299條', '刑法第41條', '刑事訴訟法第454條',\n",
    "            '毒品危害防制條例第18條', '刑事訴訟法第273條', '刑事訴訟法第449條', '刑法第38條', '刑法第51條', '刑事訴訟法第450條',\n",
    "            '刑事訴訟法第455條', '刑法第10條', '毒品危害防制條例第4條', '刑法第62條', '毒品危害防制條例第11條', '刑法第56條',\n",
    "            '毒品危害防制條例第19條', '刑法第55條', '毒品危害防制條例第17條', '刑事訴訟法第310條', '刑事訴訟法第368條',\n",
    "            '刑事訴訟法第369條', '刑事訴訟法第364條'\n",
    "            \n",
    "        ], 'sentence':[\n",
    "            '(425.0, 1335.0]', '(4.999, 90.0]', '(150.0, 180.0]','(90.0, 120.0]', '(1335.0, 10950.0]',\n",
    "            '(300.0, 425.0]', '(180.0, 210.0]', '(240.0, 300.0]','(120.0, 150.0]', '(210.0, 240.0]'\n",
    "        ]}\n",
    "\n",
    "model_names = [\n",
    "                'ckiplab/bert-base-chinese', # F1 66\n",
    "                'bert-base-chinese', # About the same as ckiplab\n",
    "                'schen/longformer-chinese-base-4096', \n",
    "                'IDEA-CCNL/Erlangshen-Longformer-330M',\n",
    "                'Lowin_chinese-bigbird-wwm-base-4096',\n",
    "                'prajjwal1/bert-tiny'\n",
    "                ]\n",
    "\n",
    "model_num = 0\n",
    "max_length = 512\n",
    "accumulate_grad_batches=2\n",
    "max_epochs = 10\n",
    "precision = \"16\"\n",
    "\n",
    "for ind, item in enumerate(labels.items()):\n",
    "\n",
    "    if item[0] == 'law':\n",
    "        # continue\n",
    "        model = TextClassifier(\n",
    "        backbone=model_names[model_num],\n",
    "        labels=datamodule.labels,\n",
    "        multi_label=datamodule.multi_label,\n",
    "        max_length=max_length\n",
    "        )\n",
    "    elif item[0] == 'sentence':\n",
    "        # continue\n",
    "        model = TextClassifier(\n",
    "            backbone=model_names[model_num],\n",
    "            labels=datamodule.labels,\n",
    "            max_length=max_length,\n",
    "            num_classes=len(labels['sentence'])\n",
    "        )\n",
    "\n",
    "    print(item[0])\n",
    "\n",
    "    # Create the DataModule\n",
    "    datamodule = TextClassificationData.from_csv(\n",
    "        \"main_body\",\n",
    "        item[1],\n",
    "        train_file=\"../data/processed_all_drug_top_25_act_flash.csv\",\n",
    "        val_split=0.1,\n",
    "        batch_size=64,\n",
    "    )\n",
    "\n",
    "    # Create the trainer and finetune the model\n",
    "    trainer = flash.Trainer(max_epochs=max_epochs,\\\n",
    "                gpus=torch.cuda.device_count(),\\\n",
    "                accumulate_grad_batches=accumulate_grad_batches,\\\n",
    "                precision=precision)\n",
    "\n",
    "    trainer.finetune(model, datamodule=datamodule, strategy=\"freeze\")\n",
    "\n",
    "    # Save the model\n",
    "    trainer.save_checkpoint(f\"../models/{item[0]}_classification_{model_names[model_num].replace('/','-')}.pt\")"
   ]
  },
  {
   "cell_type": "markdown",
   "metadata": {},
   "source": [
    "# Inference"
   ]
  },
  {
   "cell_type": "code",
   "execution_count": null,
   "metadata": {},
   "outputs": [],
   "source": []
  },
  {
   "cell_type": "code",
   "execution_count": null,
   "metadata": {},
   "outputs": [],
   "source": []
  },
  {
   "cell_type": "code",
   "execution_count": null,
   "metadata": {},
   "outputs": [],
   "source": []
  }
 ],
 "metadata": {
  "kernelspec": {
   "display_name": "Legal_DRC",
   "language": "python",
   "name": "python3"
  },
  "language_info": {
   "codemirror_mode": {
    "name": "ipython",
    "version": 3
   },
   "file_extension": ".py",
   "mimetype": "text/x-python",
   "name": "python",
   "nbconvert_exporter": "python",
   "pygments_lexer": "ipython3",
   "version": "3.10.13"
  },
  "orig_nbformat": 4
 },
 "nbformat": 4,
 "nbformat_minor": 2
}
